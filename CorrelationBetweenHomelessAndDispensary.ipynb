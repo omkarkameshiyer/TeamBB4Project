{
 "cells": [
  {
   "cell_type": "code",
   "execution_count": 230,
   "metadata": {},
   "outputs": [],
   "source": [
    "import gmaps"
   ]
  },
  {
   "cell_type": "code",
   "execution_count": 231,
   "metadata": {},
   "outputs": [],
   "source": [
    "import numpy as np\n",
    "import pandas as pd\n",
    "import requests\n",
    "import time\n",
    "# Dependencies\n",
    "import requests\n",
    "import json\n",
    "# Google developer API key\n",
    "from config import gkey\n",
    "# Retrieve Google API key from config.py\n",
    "from uszipcode import SearchEngine\n",
    "import matplotlib.pyplot as plt\n",
    "import time\n",
    "homeless_df=pd.read_csv('homelessDataCsvByZipCode.csv')"
   ]
  },
  {
   "cell_type": "code",
   "execution_count": 232,
   "metadata": {},
   "outputs": [
    {
     "data": {
      "text/plain": [
       "count    90178\n",
       "dtype: int64"
      ]
     },
     "execution_count": 232,
     "metadata": {},
     "output_type": "execute_result"
    }
   ],
   "source": [
    "\n",
    "de = homeless_df.drop(homeless_df.columns[0], axis = 1) \n",
    "de.set_index('address').sum()\n",
    "#homeless_df.set_index('address')"
   ]
  },
  {
   "cell_type": "code",
   "execution_count": 233,
   "metadata": {},
   "outputs": [
    {
     "data": {
      "text/plain": [
       "<pandas.core.groupby.groupby.DataFrameGroupBy object at 0x118936550>"
      ]
     },
     "execution_count": 233,
     "metadata": {},
     "output_type": "execute_result"
    }
   ],
   "source": [
    "de[['address','count']].groupby('address')"
   ]
  },
  {
   "cell_type": "code",
   "execution_count": 234,
   "metadata": {},
   "outputs": [],
   "source": [
    "dataClenedAfter = de[['address','count']].groupby('address').sum().reset_index()"
   ]
  },
  {
   "cell_type": "code",
   "execution_count": 282,
   "metadata": {},
   "outputs": [
    {
     "data": {
      "text/plain": [
       "['address', 'count']"
      ]
     },
     "execution_count": 282,
     "metadata": {},
     "output_type": "execute_result"
    }
   ],
   "source": [
    "list(dataClenedAfter)\n",
    "\n"
   ]
  },
  {
   "cell_type": "code",
   "execution_count": 287,
   "metadata": {},
   "outputs": [
    {
     "name": "stdout",
     "output_type": "stream",
     "text": [
      "error\n",
      "error\n",
      "error\n"
     ]
    }
   ],
   "source": [
    "dataHomeLess = []\n",
    "for index, row in dataClenedAfter.iterrows():\n",
    "    try:\n",
    "        zip = int(row['address'].split(\",\")[len(row['address'].split(\",\"))-2].replace(\"CA\",\"\").strip())\n",
    "        dataHomeLess.append([zip,row['count']])\n",
    "    except:\n",
    "        print(\"error\")"
   ]
  },
  {
   "cell_type": "code",
   "execution_count": 288,
   "metadata": {},
   "outputs": [],
   "source": [
    "\n",
    "zipCodeHomeLess = pd.DataFrame(dataHomeLess)"
   ]
  },
  {
   "cell_type": "code",
   "execution_count": 301,
   "metadata": {},
   "outputs": [],
   "source": [
    "zipCodeHomeLess.columns = ['zip', 'count homeless']\n",
    "zipCodeHomeLess= zipCodeHomeLess.groupby(['zip']).sum()"
   ]
  },
  {
   "cell_type": "code",
   "execution_count": 302,
   "metadata": {},
   "outputs": [],
   "source": [
    "marijuana_df=pd.read_csv('CannabisLicData_cleaned.csv')\n",
    "marijuana_zip=marijuana_df['Zip Code'].value_counts()\n",
    "marijuana_zip.sort_index(inplace=True)\n",
    "marijuana_zipDataFrame = marijuana_zip.to_frame().reset_index()\n",
    "marijuana_zipDataFrame.columns = ['zip', 'count']\n"
   ]
  },
  {
   "cell_type": "code",
   "execution_count": 303,
   "metadata": {},
   "outputs": [],
   "source": [
    "newData = pd.merge(zipCodeHomeLess, marijuana_zipDataFrame, on='zip', how='outer')\n"
   ]
  },
  {
   "cell_type": "code",
   "execution_count": 334,
   "metadata": {},
   "outputs": [
    {
     "data": {
      "text/html": [
       "<div>\n",
       "<style scoped>\n",
       "    .dataframe tbody tr th:only-of-type {\n",
       "        vertical-align: middle;\n",
       "    }\n",
       "\n",
       "    .dataframe tbody tr th {\n",
       "        vertical-align: top;\n",
       "    }\n",
       "\n",
       "    .dataframe thead th {\n",
       "        text-align: right;\n",
       "    }\n",
       "</style>\n",
       "<table border=\"1\" class=\"dataframe\">\n",
       "  <thead>\n",
       "    <tr style=\"text-align: right;\">\n",
       "      <th></th>\n",
       "      <th>zip</th>\n",
       "      <th>count disp</th>\n",
       "      <th>count homeless</th>\n",
       "    </tr>\n",
       "  </thead>\n",
       "  <tbody>\n",
       "    <tr>\n",
       "      <th>0</th>\n",
       "      <td>90001.0</td>\n",
       "      <td>3.0</td>\n",
       "      <td>1208.0</td>\n",
       "    </tr>\n",
       "    <tr>\n",
       "      <th>1</th>\n",
       "      <td>90002.0</td>\n",
       "      <td>0.0</td>\n",
       "      <td>790.0</td>\n",
       "    </tr>\n",
       "    <tr>\n",
       "      <th>2</th>\n",
       "      <td>90003.0</td>\n",
       "      <td>0.0</td>\n",
       "      <td>1718.0</td>\n",
       "    </tr>\n",
       "    <tr>\n",
       "      <th>3</th>\n",
       "      <td>90004.0</td>\n",
       "      <td>0.0</td>\n",
       "      <td>760.0</td>\n",
       "    </tr>\n",
       "    <tr>\n",
       "      <th>4</th>\n",
       "      <td>90005.0</td>\n",
       "      <td>0.0</td>\n",
       "      <td>392.0</td>\n",
       "    </tr>\n",
       "  </tbody>\n",
       "</table>\n",
       "</div>"
      ],
      "text/plain": [
       "       zip  count disp  count homeless\n",
       "0  90001.0         3.0          1208.0\n",
       "1  90002.0         0.0           790.0\n",
       "2  90003.0         0.0          1718.0\n",
       "3  90004.0         0.0           760.0\n",
       "4  90005.0         0.0           392.0"
      ]
     },
     "execution_count": 334,
     "metadata": {},
     "output_type": "execute_result"
    }
   ],
   "source": [
    "dataHomeLessAndPot = []\n",
    "newData= newData.fillna(0)\n",
    "zipCodesValid=pd.read_csv('laZipCodes.csv', encoding = \"ISO-8859-1\")\n",
    "\n",
    "for index, row in newData.iterrows():\n",
    "    if row['zip'] < 91608 :\n",
    "        dataHomeLessAndPot.append([row['zip'],row['count'],row['count homeless']])\n",
    "pddataHomeLessAndPot=pd.DataFrame(dataHomeLessAndPot)        \n",
    "\n",
    "pddataHomeLessAndPot.columns = ['zip','count disp', 'count homeless']\n",
    "\n",
    "pddataHomeLessAndPot.head()"
   ]
  },
  {
   "cell_type": "code",
   "execution_count": 332,
   "metadata": {},
   "outputs": [
    {
     "data": {
      "text/html": [
       "<div>\n",
       "<style scoped>\n",
       "    .dataframe tbody tr th:only-of-type {\n",
       "        vertical-align: middle;\n",
       "    }\n",
       "\n",
       "    .dataframe tbody tr th {\n",
       "        vertical-align: top;\n",
       "    }\n",
       "\n",
       "    .dataframe thead th {\n",
       "        text-align: right;\n",
       "    }\n",
       "</style>\n",
       "<table border=\"1\" class=\"dataframe\">\n",
       "  <thead>\n",
       "    <tr style=\"text-align: right;\">\n",
       "      <th></th>\n",
       "      <th>count disp</th>\n",
       "      <th>count homeless</th>\n",
       "    </tr>\n",
       "  </thead>\n",
       "  <tbody>\n",
       "    <tr>\n",
       "      <th>0</th>\n",
       "      <td>0.0</td>\n",
       "      <td>249.768116</td>\n",
       "    </tr>\n",
       "    <tr>\n",
       "      <th>1</th>\n",
       "      <td>1.0</td>\n",
       "      <td>614.342857</td>\n",
       "    </tr>\n",
       "    <tr>\n",
       "      <th>2</th>\n",
       "      <td>2.0</td>\n",
       "      <td>255.058824</td>\n",
       "    </tr>\n",
       "    <tr>\n",
       "      <th>3</th>\n",
       "      <td>3.0</td>\n",
       "      <td>347.750000</td>\n",
       "    </tr>\n",
       "    <tr>\n",
       "      <th>4</th>\n",
       "      <td>4.0</td>\n",
       "      <td>245.500000</td>\n",
       "    </tr>\n",
       "    <tr>\n",
       "      <th>5</th>\n",
       "      <td>5.0</td>\n",
       "      <td>934.666667</td>\n",
       "    </tr>\n",
       "    <tr>\n",
       "      <th>6</th>\n",
       "      <td>6.0</td>\n",
       "      <td>199.000000</td>\n",
       "    </tr>\n",
       "    <tr>\n",
       "      <th>7</th>\n",
       "      <td>7.0</td>\n",
       "      <td>44.000000</td>\n",
       "    </tr>\n",
       "    <tr>\n",
       "      <th>8</th>\n",
       "      <td>8.0</td>\n",
       "      <td>318.000000</td>\n",
       "    </tr>\n",
       "    <tr>\n",
       "      <th>9</th>\n",
       "      <td>9.0</td>\n",
       "      <td>7946.000000</td>\n",
       "    </tr>\n",
       "  </tbody>\n",
       "</table>\n",
       "</div>"
      ],
      "text/plain": [
       "   count disp  count homeless\n",
       "0         0.0      249.768116\n",
       "1         1.0      614.342857\n",
       "2         2.0      255.058824\n",
       "3         3.0      347.750000\n",
       "4         4.0      245.500000\n",
       "5         5.0      934.666667\n",
       "6         6.0      199.000000\n",
       "7         7.0       44.000000\n",
       "8         8.0      318.000000\n",
       "9         9.0     7946.000000"
      ]
     },
     "execution_count": 332,
     "metadata": {},
     "output_type": "execute_result"
    }
   ],
   "source": [
    "\"\"\"dataCompletedData=pddataHomeLessAndPot[['count disp','count homeless']].groupby('count disp').mean().reset_index()\n",
    "dataCompletedData\n",
    "\n",
    "dataCompletedDataByPotShops=pddataHomeLessAndPot[['count disp','zip']].groupby('count disp').count().reset_index()\n",
    "dataCompletedDataByPotShops\n",
    "dataCompletedData\n",
    "\"\"\"\n"
   ]
  },
  {
   "cell_type": "code",
   "execution_count": 335,
   "metadata": {},
   "outputs": [
    {
     "data": {
      "image/png": "[encoded data removed]",
      "text/plain": [
       "<Figure size 432x288 with 2 Axes>"
      ]
     },
     "metadata": {
      "needs_background": "light"
     },
     "output_type": "display_data"
    }
   ],
   "source": [
    "\"\"\"\n",
    "plt.figure(0)\n",
    "unemployed, = plt.plot(newData['zip'], newData['count homeless'], marker ='o', color='blue', label=\"Sine\")\n",
    "# Each point on the cosine chart is marked by a red triangle\n",
    "plt.figure(1)\n",
    "weed, = plt.plot(newData['zip'], newData['count'], marker='^', color='red', label=\"Cosine\")\"\"\"\n",
    "\n",
    "\n",
    "# Create some mock data\n",
    "t = pddataHomeLessAndPot['zip']\n",
    "data1 = pddataHomeLessAndPot['count homeless']/800\n",
    "data2 = pddataHomeLessAndPot['count disp']\n",
    "\n",
    "fig, ax1 = plt.subplots()\n",
    "\n",
    "color = 'tab:red'\n",
    "ax1.set_xlabel('Zip Code (s)')\n",
    "ax1.set_ylabel('Homeless Count', color=color)\n",
    "ax1.plot(t, data1, color=color)\n",
    "ax1.tick_params(axis='y', labelcolor=color)\n",
    "\n",
    "ax2 = ax1.twinx()  # instantiate a second axes that shares the same x-axis\n",
    "\n",
    "color = 'tab:blue'\n",
    "ax2.set_ylabel('Dispensay', color=color)  # we already handled the x-label with ax1\n",
    "ax2.plot(t, data2, color=color)\n",
    "ax2.tick_params(axis='y', labelcolor=color)\n",
    "\n",
    "fig.tight_layout()  # otherwise the right y-label is slightly clipped\n",
    "plt.show()\n"
   ]
  },
  {
   "cell_type": "code",
   "execution_count": 336,
   "metadata": {},
   "outputs": [
    {
     "data": {
      "image/png": "[encoded data removed]",
      "text/plain": [
       "<Figure size 432x288 with 1 Axes>"
      ]
     },
     "metadata": {
      "needs_background": "light"
     },
     "output_type": "display_data"
    }
   ],
   "source": [
    "y = pddataHomeLessAndPot['count homeless']\n",
    "x = pddataHomeLessAndPot['count disp']\n",
    "s = np.random.rand(*x.shape) * 800 + 500\n",
    "\n",
    "#plt.yscale('log',basey=2) \n",
    "\n",
    "plt.scatter(x, y,  c=\"g\", alpha=0.5,\n",
    "            label=\"Disp. Vs Homeless Counts\")\n",
    "plt.ylabel(\"Homeless Count\")\n",
    "plt.xlabel(\"Number of Disp\")\n",
    "plt.legend(loc='best')\n",
    "plt.show()"
   ]
  },
  {
   "cell_type": "code",
   "execution_count": 309,
   "metadata": {},
   "outputs": [],
   "source": [
    "#y = pddataHomeLessAndPot['count homeless']\n",
    "#x = pddataHomeLessAndPot['count disp']\n",
    "dataCompletedData=pddataHomeLessAndPot[['count disp','count homeless']].groupby('count disp').mean().reset_index()"
   ]
  },
  {
   "cell_type": "code",
   "execution_count": 333,
   "metadata": {},
   "outputs": [
    {
     "data": {
      "image/png": "[encoded data removed]",
      "text/plain": [
       "<Figure size 432x288 with 1 Axes>"
      ]
     },
     "metadata": {
      "needs_background": "light"
     },
     "output_type": "display_data"
    }
   ],
   "source": [
    "\n",
    "y = dataCompletedData['count homeless']\n",
    "x = dataCompletedData['count disp']\n",
    "s = np.random.rand(*x.shape) * 800 + 500\n",
    "\n",
    "#plt.yscale('log',basey=2) \n",
    "\n",
    "plt.scatter(x, y,  c=\"g\", alpha=0.5,\n",
    "            label=\"Disp. Vs Homeless , (with mean number of homeless)\")\n",
    "plt.ylabel(\"Homeless Count\")\n",
    "plt.xlabel(\"Number of Disp\")\n",
    "plt.legend(loc='best')\n",
    "plt.show()"
   ]
  },
  {
   "cell_type": "code",
   "execution_count": 337,
   "metadata": {},
   "outputs": [],
   "source": [
    "newDataWith0 = newData.fillna(0)\n",
    "for index, row in newDataWith0.iterrows():\n",
    "    if row['zip'] < 91608 :\n",
    "        dataHomeLessAndPot.append([row['zip'],row['count'],row['count homeless']])\n",
    "pddataHomeLessAndPot=pd.DataFrame(dataHomeLessAndPot)        \n",
    "\n",
    "pddataHomeLessAndPot.columns = ['zip','count disp', 'count homeless']"
   ]
  },
  {
   "cell_type": "code",
   "execution_count": 338,
   "metadata": {},
   "outputs": [],
   "source": [
    "pddataHomeLessAndPot=pddataHomeLessAndPot.fillna(0)"
   ]
  },
  {
   "cell_type": "code",
   "execution_count": 339,
   "metadata": {},
   "outputs": [],
   "source": [
    "dataCompletedData=pddataHomeLessAndPot[['zip','count disp','count homeless']].groupby('zip').mean().reset_index()\n",
    "\n",
    "\n"
   ]
  },
  {
   "cell_type": "code",
   "execution_count": 340,
   "metadata": {},
   "outputs": [
    {
     "data": {
      "text/html": [
       "<div>\n",
       "<style scoped>\n",
       "    .dataframe tbody tr th:only-of-type {\n",
       "        vertical-align: middle;\n",
       "    }\n",
       "\n",
       "    .dataframe tbody tr th {\n",
       "        vertical-align: top;\n",
       "    }\n",
       "\n",
       "    .dataframe thead th {\n",
       "        text-align: right;\n",
       "    }\n",
       "</style>\n",
       "<table border=\"1\" class=\"dataframe\">\n",
       "  <thead>\n",
       "    <tr style=\"text-align: right;\">\n",
       "      <th></th>\n",
       "      <th>zip</th>\n",
       "      <th>count disp</th>\n",
       "      <th>count homeless</th>\n",
       "    </tr>\n",
       "  </thead>\n",
       "  <tbody>\n",
       "    <tr>\n",
       "      <th>0</th>\n",
       "      <td>90001.0</td>\n",
       "      <td>3.0</td>\n",
       "      <td>1208.0</td>\n",
       "    </tr>\n",
       "    <tr>\n",
       "      <th>1</th>\n",
       "      <td>90002.0</td>\n",
       "      <td>0.0</td>\n",
       "      <td>790.0</td>\n",
       "    </tr>\n",
       "    <tr>\n",
       "      <th>2</th>\n",
       "      <td>90003.0</td>\n",
       "      <td>0.0</td>\n",
       "      <td>1718.0</td>\n",
       "    </tr>\n",
       "    <tr>\n",
       "      <th>3</th>\n",
       "      <td>90004.0</td>\n",
       "      <td>0.0</td>\n",
       "      <td>760.0</td>\n",
       "    </tr>\n",
       "    <tr>\n",
       "      <th>4</th>\n",
       "      <td>90005.0</td>\n",
       "      <td>0.0</td>\n",
       "      <td>392.0</td>\n",
       "    </tr>\n",
       "  </tbody>\n",
       "</table>\n",
       "</div>"
      ],
      "text/plain": [
       "       zip  count disp  count homeless\n",
       "0  90001.0         3.0          1208.0\n",
       "1  90002.0         0.0           790.0\n",
       "2  90003.0         0.0          1718.0\n",
       "3  90004.0         0.0           760.0\n",
       "4  90005.0         0.0           392.0"
      ]
     },
     "execution_count": 340,
     "metadata": {},
     "output_type": "execute_result"
    }
   ],
   "source": [
    "dataCompletedData.head()"
   ]
  },
  {
   "cell_type": "code",
   "execution_count": 341,
   "metadata": {},
   "outputs": [
    {
     "data": {
      "image/png": "[encoded data removed]",
      "text/plain": [
       "<Figure size 432x288 with 1 Axes>"
      ]
     },
     "metadata": {
      "needs_background": "light"
     },
     "output_type": "display_data"
    }
   ],
   "source": [
    "y = dataCompletedData['count homeless']\n",
    "x = dataCompletedData['count disp']\n",
    "\n",
    "#plt.yscale('log',basey=2) \n",
    "\n",
    "plt.scatter(x, y,  c=\"g\", alpha=0.5,\n",
    "            label=\"Disp. Vs Homeless Counts\")\n",
    "plt.ylabel(\"Homeless Count\")\n",
    "plt.xlabel(\"Number of Disp\")\n",
    "plt.legend(loc='best')\n",
    "plt.show()"
   ]
  },
  {
   "cell_type": "code",
   "execution_count": 343,
   "metadata": {},
   "outputs": [
    {
     "data": {
      "text/plain": [
       "0.3146242006861716"
      ]
     },
     "execution_count": 343,
     "metadata": {},
     "output_type": "execute_result"
    }
   ],
   "source": [
    "\"\"\"\n",
    "y = dataCompletedData['count homeless']\n",
    "x = dataCompletedData['count disp']\n",
    "\"\"\"\n",
    "\n",
    "dataCompletedData['count homeless'].corr(dataCompletedData['count disp'])\n"
   ]
  },
  {
   "cell_type": "code",
   "execution_count": 344,
   "metadata": {},
   "outputs": [
    {
     "data": {
      "image/png": "[encoded data removed]",
      "text/plain": [
       "<Figure size 432x288 with 1 Axes>"
      ]
     },
     "metadata": {
      "needs_background": "light"
     },
     "output_type": "display_data"
    }
   ],
   "source": [
    "\n",
    "y = dataCompletedData['count homeless']\n",
    "x = dataCompletedData['count disp']\n",
    "plt.ylabel(\"Homeless Count\")\n",
    "plt.xlabel(\"Number of Disp\")\n",
    "plt.scatter(x, y, label=\"Disp. Vs Homeless Counts Mean\")\n",
    "plt.show()"
   ]
  },
  {
   "cell_type": "code",
   "execution_count": 317,
   "metadata": {},
   "outputs": [],
   "source": [
    "zipCodeToLatLong=pd.read_csv('zipcode_coords_centroids.csv', encoding = \"ISO-8859-1\")"
   ]
  },
  {
   "cell_type": "code",
   "execution_count": 318,
   "metadata": {},
   "outputs": [
    {
     "data": {
      "text/html": [
       "<div>\n",
       "<style scoped>\n",
       "    .dataframe tbody tr th:only-of-type {\n",
       "        vertical-align: middle;\n",
       "    }\n",
       "\n",
       "    .dataframe tbody tr th {\n",
       "        vertical-align: top;\n",
       "    }\n",
       "\n",
       "    .dataframe thead th {\n",
       "        text-align: right;\n",
       "    }\n",
       "</style>\n",
       "<table border=\"1\" class=\"dataframe\">\n",
       "  <thead>\n",
       "    <tr style=\"text-align: right;\">\n",
       "      <th></th>\n",
       "      <th>ZIP</th>\n",
       "      <th>LAT</th>\n",
       "      <th>LNG</th>\n",
       "    </tr>\n",
       "  </thead>\n",
       "  <tbody>\n",
       "    <tr>\n",
       "      <th>0</th>\n",
       "      <td>601</td>\n",
       "      <td>18.180555</td>\n",
       "      <td>-66.749961</td>\n",
       "    </tr>\n",
       "    <tr>\n",
       "      <th>1</th>\n",
       "      <td>602</td>\n",
       "      <td>18.361945</td>\n",
       "      <td>-67.175597</td>\n",
       "    </tr>\n",
       "    <tr>\n",
       "      <th>2</th>\n",
       "      <td>603</td>\n",
       "      <td>18.455183</td>\n",
       "      <td>-67.119887</td>\n",
       "    </tr>\n",
       "    <tr>\n",
       "      <th>3</th>\n",
       "      <td>606</td>\n",
       "      <td>18.158345</td>\n",
       "      <td>-66.932911</td>\n",
       "    </tr>\n",
       "    <tr>\n",
       "      <th>4</th>\n",
       "      <td>610</td>\n",
       "      <td>18.295366</td>\n",
       "      <td>-67.125135</td>\n",
       "    </tr>\n",
       "  </tbody>\n",
       "</table>\n",
       "</div>"
      ],
      "text/plain": [
       "   ZIP        LAT        LNG\n",
       "0  601  18.180555 -66.749961\n",
       "1  602  18.361945 -67.175597\n",
       "2  603  18.455183 -67.119887\n",
       "3  606  18.158345 -66.932911\n",
       "4  610  18.295366 -67.125135"
      ]
     },
     "execution_count": 318,
     "metadata": {},
     "output_type": "execute_result"
    }
   ],
   "source": [
    "zipCodeToLatLong.head()"
   ]
  },
  {
   "cell_type": "code",
   "execution_count": null,
   "metadata": {},
   "outputs": [],
   "source": []
  }
 ],
 "metadata": {
  "kernelspec": {
   "display_name": "Python 3",
   "language": "python",
   "name": "python3"
  },
  "language_info": {
   "codemirror_mode": {
    "name": "ipython",
    "version": 3
   },
   "file_extension": ".py",
   "mimetype": "text/x-python",
   "name": "python",
   "nbconvert_exporter": "python",
   "pygments_lexer": "ipython3",
   "version": "3.6.7"
  }
 },
 "nbformat": 4,
 "nbformat_minor": 2
}
