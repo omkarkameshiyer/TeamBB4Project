{
 "cells": [
  {
   "cell_type": "code",
   "execution_count": null,
   "metadata": {},
   "outputs": [],
   "source": [
    "\"\"\"\n",
    "\n",
    "\"\"\""
   ]
  },
  {
   "cell_type": "code",
   "execution_count": 6,
   "metadata": {},
   "outputs": [
    {
     "data": {
      "text/plain": [
       "pandas.core.series.Series"
      ]
     },
     "execution_count": 6,
     "metadata": {},
     "output_type": "execute_result"
    }
   ],
   "source": [
    "# Dependencies\n",
    "#import sys\n",
    "#!{sys.executable} -m pip install uszipcode\n",
    "#!{sys.executable} -m pip install pygeocoder\n",
    "\n",
    "# Dependencies\n",
    "import requests\n",
    "import json\n",
    "# Google developer API key\n",
    "from config import gkey\n",
    "# Retrieve Google API key from config.py\n",
    "from uszipcode import SearchEngine\n",
    "import gmaps\n",
    "import numpy as np\n",
    "import pandas as pd\n",
    "import matplotlib.pyplot as plt\n",
    "import requests\n",
    "import time\n",
    "\n",
    "marijuana_df=pd.read_csv('CannabisLicData_cleaned.csv')\n",
    "marijuana_zip=marijuana_df['Zip Code'].value_counts()\n",
    "marijuana_zip.sort_index(inplace=True)\n",
    "\n",
    "\n",
    "search = SearchEngine(simple_zipcode=True) # set simple_zipcode=False to use rich info database\n",
    "homelessData=pd.read_csv('betterDataForHomeLessCounts.csv', encoding = \"ISO-8859-1\")\n",
    "homelessData.head()\n",
    "\n",
    "zipCodes=pd.read_csv('laZipCodes.csv', encoding = \"ISO-8859-1\")\n",
    "zipCodes.head()\n",
    "\n",
    "dataSet = []\n",
    "for zipCode in zipCodes['Los Angeles'] :\n",
    "    zipcodeData = search.by_zipcode(zipCode)\n",
    "    dataSet.append(zipcodeData.to_dict())\n",
    "\n",
    "zipCodesData = pd.DataFrame(dataSet)\n",
    "zipCodesData.set_index('zipcode')\n",
    "\n",
    "type(marijuana_zip)\n",
    "#marijuana_zip"
   ]
  },
  {
   "cell_type": "code",
   "execution_count": 7,
   "metadata": {},
   "outputs": [],
   "source": [
    "marijuana_zipDataFrame = marijuana_zip.to_frame().reset_index()\n",
    "marijuana_zipDataFrame.columns = ['zip', 'count']"
   ]
  },
  {
   "cell_type": "code",
   "execution_count": 8,
   "metadata": {},
   "outputs": [
    {
     "data": {
      "text/plain": [
       "12954"
      ]
     },
     "execution_count": 8,
     "metadata": {},
     "output_type": "execute_result"
    }
   ],
   "source": [
    "len(homelessData)"
   ]
  },
  {
   "cell_type": "code",
   "execution_count": 15,
   "metadata": {},
   "outputs": [],
   "source": [
    "url= \"https://maps.googleapis.com/maps/api/geocode/json?latlng={}&key={}\"\n",
    "\n",
    "dataHomeLessbyZip=[]\n",
    "\n",
    "dataThere= {'something'}\n",
    "hashData = {}\n",
    "for index, row in homelessData.iterrows():\n",
    "    #Year Count Location\n",
    "    if(row['Year'] == 2018):\n",
    "        locationData = row['Location'].replace(\"(\",\"\").replace(\")\",\"\")\n",
    "        if locationData not in dataThere :\n",
    "            dataThere.add(locationData)\n",
    "            target_url = ('https://maps.googleapis.com/maps/api/geocode/json?latlng={0}&key={1}').format(locationData, gkey)\n",
    "            zipcodeDataByLocation = requests.get(target_url).json()\n",
    "            address = zipcodeDataByLocation[\"results\"][0][\"formatted_address\"]\n",
    "            #zipCodeData = address.split(\",\")[1].replace(\"CA\",\"\").replace(\" \", \"\")\n",
    "            dataHomeLessbyZip.append([ row['Count'] , address ])\n",
    "            hashData[locationData] = address\n",
    "        else:\n",
    "            dataHomeLessbyZip.append([ row['Count'] , hashData[locationData] ])\n",
    "         \n",
    "        "
   ]
  },
  {
   "cell_type": "code",
   "execution_count": 44,
   "metadata": {},
   "outputs": [],
   "source": [
    "zipCodeHomeLess = pd.DataFrame(dataHomeLessbyZip)"
   ]
  },
  {
   "cell_type": "code",
   "execution_count": 45,
   "metadata": {},
   "outputs": [],
   "source": [
    "zipCodeHomeLess.columns = [ 'count' , 'address']"
   ]
  },
  {
   "cell_type": "code",
   "execution_count": 47,
   "metadata": {},
   "outputs": [],
   "source": [
    "zipCodeHomeLess.set_index('address')\n",
    "zipCodeHomeLess.to_csv(\"homelessDataCsvByZipCode.csv\")"
   ]
  },
  {
   "cell_type": "code",
   "execution_count": 39,
   "metadata": {},
   "outputs": [],
   "source": [
    "dataFrameDAta=zipCodeHomeLess.groupby([  'address','count' ]).sum().groupby([  'address','count' ])"
   ]
  },
  {
   "cell_type": "code",
   "execution_count": 40,
   "metadata": {},
   "outputs": [
    {
     "data": {
      "text/plain": [
       "<pandas.core.groupby.groupby.DataFrameGroupBy object at 0x11b0c6048>"
      ]
     },
     "execution_count": 40,
     "metadata": {},
     "output_type": "execute_result"
    }
   ],
   "source": [
    "dataFrameDAta"
   ]
  },
  {
   "cell_type": "code",
   "execution_count": null,
   "metadata": {},
   "outputs": [],
   "source": []
  }
 ],
 "metadata": {
  "kernelspec": {
   "display_name": "Python 3",
   "language": "python",
   "name": "python3"
  },
  "language_info": {
   "codemirror_mode": {
    "name": "ipython",
    "version": 3
   },
   "file_extension": ".py",
   "mimetype": "text/x-python",
   "name": "python",
   "nbconvert_exporter": "python",
   "pygments_lexer": "ipython3",
   "version": "3.6.7"
  }
 },
 "nbformat": 4,
 "nbformat_minor": 2
}
