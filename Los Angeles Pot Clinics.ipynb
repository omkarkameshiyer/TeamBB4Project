{
 "cells": [
  {
   "cell_type": "code",
   "execution_count": 7,
   "metadata": {},
   "outputs": [],
   "source": [
    "import gmaps\n"
   ]
  },
  {
   "cell_type": "code",
   "execution_count": 8,
   "metadata": {},
   "outputs": [],
   "source": [
    "import numpy as np\n",
    "import pandas as pd\n",
    "import requests\n",
    "import time\n",
    "# Dependencies\n",
    "import requests\n",
    "import json\n",
    "# Google developer API key\n",
    "from config import gkey\n",
    "# Retrieve Google API key from config.py\n",
    "from uszipcode import SearchEngine\n",
    "import matplotlib.pyplot as plt\n",
    "import time\n",
    "marijuana_df=pd.read_csv('CannabisLicData_cleaned.csv')\n",
    "marijuana_zip=marijuana_df['Zip Code'].value_counts()\n",
    "marijuana_zip.sort_index(inplace=True)\n",
    "search = SearchEngine(simple_zipcode=True) # set simple_zipcode=False to use rich info database\n",
    "\n",
    "\n",
    "zipCodes=pd.read_csv('laZipCodes.csv', encoding = \"ISO-8859-1\")\n",
    "zipCodes.head()\n",
    "marijuana_zipDataFrame = marijuana_zip.to_frame().reset_index()\n",
    "marijuana_zipDataFrame.columns = ['zip', 'count']\n",
    "\n",
    "\n",
    "dataSet = []\n",
    "for zipCode in marijuana_zipDataFrame[\"zip\"] :\n",
    "    zipcodeData = search.by_zipcode(zipCode).to_dict()\n",
    "    dataSet.append([zipCode,zipcodeData.get(\"lat\"),zipcodeData.get(\"lng\")])\n",
    "\n",
    "zipCodesData = pd.DataFrame(dataSet)\n",
    "zipCodesData.columns = ['zip', 'lat','lng']\n"
   ]
  },
  {
   "cell_type": "code",
   "execution_count": 9,
   "metadata": {},
   "outputs": [],
   "source": [
    "newData = pd.merge(zipCodesData, marijuana_zipDataFrame, on='zip', how='outer')\n",
    "newData.dropna(inplace=True)"
   ]
  },
  {
   "cell_type": "code",
   "execution_count": 10,
   "metadata": {},
   "outputs": [],
   "source": [
    "locations = newData[[\"lat\", \"lng\"]].astype(float)\n",
    "poverty_rate = newData[\"count\"].astype(float)\n"
   ]
  },
  {
   "cell_type": "code",
   "execution_count": 12,
   "metadata": {},
   "outputs": [],
   "source": [
    "gmaps.configure(api_key=gkey)\n",
    "fig = gmaps.figure()\n",
    "\n",
    "heat_layer = gmaps.heatmap_layer(locations, weights=poverty_rate, \n",
    "                                 dissipating=False, max_intensity=100,\n",
    "                                 point_radius = 1)\n",
    "\n",
    "# Adjust heat_layer setting to help with heatmap dissipating on zoom\n",
    "heat_layer.dissipating = False\n",
    "heat_layer.max_intensity = 10\n",
    "heat_layer.point_radius = 1\n",
    "\n",
    "fig.add_layer(heat_layer)\n"
   ]
  },
  {
   "cell_type": "code",
   "execution_count": null,
   "metadata": {},
   "outputs": [],
   "source": []
  }
 ],
 "metadata": {
  "kernelspec": {
   "display_name": "Python 3",
   "language": "python",
   "name": "python3"
  },
  "language_info": {
   "codemirror_mode": {
    "name": "ipython",
    "version": 3
   },
   "file_extension": ".py",
   "mimetype": "text/x-python",
   "name": "python",
   "nbconvert_exporter": "python",
   "pygments_lexer": "ipython3",
   "version": "3.6.7"
  }
 },
 "nbformat": 4,
 "nbformat_minor": 2
}
